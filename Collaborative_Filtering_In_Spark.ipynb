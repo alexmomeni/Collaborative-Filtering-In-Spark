{
 "cells": [
  {
   "cell_type": "markdown",
   "metadata": {},
   "source": [
    "### Pyspark initialisation"
   ]
  },
  {
   "cell_type": "code",
   "execution_count": 1,
   "metadata": {
    "collapsed": true
   },
   "outputs": [],
   "source": [
    "import findspark\n",
    "pyspark_path = '/Users/charlotte.caucheteux/Desktop/spark-2.2.0-bin-hadoop2.7'\n",
    "findspark.init(pyspark_path)"
   ]
  },
  {
   "cell_type": "code",
   "execution_count": 2,
   "metadata": {
    "collapsed": true
   },
   "outputs": [],
   "source": [
    "from pyspark import SparkContext\n",
    "from time import time\n",
    "import numpy as np\n",
    "from operator import add"
   ]
  },
  {
   "cell_type": "code",
   "execution_count": 3,
   "metadata": {
    "collapsed": true
   },
   "outputs": [],
   "source": [
    "sc = SparkContext()"
   ]
  },
  {
   "cell_type": "markdown",
   "metadata": {
    "collapsed": true
   },
   "source": [
    "### Loading / preprocessing of the data "
   ]
  },
  {
   "cell_type": "markdown",
   "metadata": {},
   "source": [
    "Each line in the ratings dataset (ratings.csv) is formatted as: **userId,movieId,rating,timestamp**"
   ]
  },
  {
   "cell_type": "code",
   "execution_count": 4,
   "metadata": {
    "collapsed": true
   },
   "outputs": [],
   "source": [
    "small_ratings_raw_data = sc.textFile('../datasets/ml-latest-small/ratings.csv')\n",
    "small_ratings_raw_data_header = small_ratings_raw_data.take(1)[0]"
   ]
  },
  {
   "cell_type": "code",
   "execution_count": 5,
   "metadata": {
    "collapsed": true
   },
   "outputs": [],
   "source": [
    "def parser(x):\n",
    "    x = x.split(\",\")\n",
    "    return x"
   ]
  },
  {
   "cell_type": "code",
   "execution_count": 6,
   "metadata": {},
   "outputs": [
    {
     "data": {
      "text/plain": [
       "[('1', '31'), ('1', '1029'), ('1', '1061'), ('1', '1129'), ('1', '1172')]"
      ]
     },
     "execution_count": 6,
     "metadata": {},
     "output_type": "execute_result"
    }
   ],
   "source": [
    "small_ratings_raw_data_header = small_ratings_raw_data.take(1)[0]\n",
    "data = small_ratings_raw_data.filter(lambda line: line!=small_ratings_raw_data_header).map(parser).map(lambda tokens: (tokens[0],tokens[1])).cache()\n",
    "data.take(5)"
   ]
  },
  {
   "cell_type": "markdown",
   "metadata": {},
   "source": [
    "### EM Algorithm "
   ]
  },
  {
   "cell_type": "markdown",
   "metadata": {},
   "source": [
    "The EM algorithm for computing PLSI parameters can be parallelized by writing the equations as: \n",
    "\n",
    "$$q^*(z; u, y ; \\hat \\theta )= p(z| u,y ; \\hat \\theta )= \\frac{\\hat p (z|u) * \\frac{N(z,y)}{N(z)}}{\\sum_{z}\\hat p (z|u) * \\frac{N(z,y)}{N(z)}}$$\n",
    "$$ N(z,y) = \\sum_{u}q^*(z; u, y ; \\hat \\theta )$$\n",
    "$$ N(z) \\sum_{y}\\sum_{u} q^*(z; u, y ; \\hat \\theta )$$\n",
    "$$ \\hat p(z|u) = \\frac{\\sum_{s} q^*(z; u, y ; \\hat \\theta}{\\sum_{z}\\sum_{y} q^*(z; u, y; \\hat \\theta)}$$"
   ]
  },
  {
   "cell_type": "markdown",
   "metadata": {},
   "source": [
    "#### GroupByKey() Version"
   ]
  },
  {
   "cell_type": "code",
   "execution_count": 7,
   "metadata": {},
   "outputs": [
    {
     "name": "stdout",
     "output_type": "stream",
     "text": [
      "Number of users: 671\n",
      "Number of movies: 9066\n"
     ]
    }
   ],
   "source": [
    "nu = data.map(lambda x: x[0]).distinct().count()\n",
    "ns = data.map(lambda x: x[1]).distinct().count()\n",
    "print('Number of users:',nu)\n",
    "print('Number of movies:',ns)"
   ]
  },
  {
   "cell_type": "code",
   "execution_count": 8,
   "metadata": {},
   "outputs": [
    {
     "name": "stdout",
     "output_type": "stream",
     "text": [
      "Number of communities: 5\n"
     ]
    }
   ],
   "source": [
    "nz = 5\n",
    "print('Number of communities:',nz)\n",
    "z_ids = sc.parallelize(list(range(1,nz+1)))"
   ]
  },
  {
   "cell_type": "code",
   "execution_count": 9,
   "metadata": {},
   "outputs": [
    {
     "name": "stdout",
     "output_type": "stream",
     "text": [
      "(u,s,z): [('1', '31', 1)]\n"
     ]
    }
   ],
   "source": [
    "#Specify a complete data model usz: (u, s, z)\n",
    "usz = data.cartesian(z_ids).map(lambda x: (x[0][0], x[0][1], x[1]))\n",
    "print(\"(u,s,z):\",usz.take(1))"
   ]
  },
  {
   "cell_type": "code",
   "execution_count": 10,
   "metadata": {},
   "outputs": [
    {
     "name": "stdout",
     "output_type": "stream",
     "text": [
      "(u,s,z),q)): [(('1', '31', 1), 0.7991169055789756)]\n"
     ]
    }
   ],
   "source": [
    "#Initialization of q\n",
    "np.random.seed(123)\n",
    "\n",
    "#q: (u,s,z) => ((u,s,z), q)\n",
    "q = usz.map(lambda x :(x,np.random.rand()))\n",
    "print('(u,s,z),q)):', q.take(1))"
   ]
  },
  {
   "cell_type": "code",
   "execution_count": 11,
   "metadata": {},
   "outputs": [
    {
     "name": "stdout",
     "output_type": "stream",
     "text": [
      "(z, (s, N(s,z)) [(1, ('1172', 22.3773845802829))]\n",
      "(z, (s, N(s,z)/N(z)) [(1, ('1172', 0.00044871722964156944))]\n"
     ]
    },
    {
     "data": {
      "text/plain": [
       "[(1, 0.9999999999999989),\n",
       " (2, 0.9999999999999983),\n",
       " (3, 0.9999999999999989),\n",
       " (4, 1.0000000000000002),\n",
       " (5, 1.0000000000000047)]"
      ]
     },
     "execution_count": 11,
     "metadata": {},
     "output_type": "execute_result"
    }
   ],
   "source": [
    "###Maximisation (1)\n",
    "\n",
    "#Nzs: (z,(s,N(z,s)))\n",
    "Nzs = q.map(lambda x:((x[0][2],x[0][1]),x[1])).reduceByKey(lambda x,y:x+y).map(lambda x:(x[0][0],(x[0][1],x[1])))\n",
    "print('(z, (s, N(s,z))', Nzs.take(1))\n",
    "\n",
    "#Nzs_norm: (z,(s,N(z,s))) => (z,(s,N(z,s)/N(z)))\n",
    "Nzs_norm= Nzs.groupByKey().flatMap(lambda x: [(x[0],(i[0],i[1]/sum([i[1] for i in x[1]]))) for i in x[1]])\n",
    "print('(z, (s, N(s,z)/N(z))', Nzs_norm.take(1))\n",
    "\n",
    "###Sanity Check: Probabilities add up to 1\n",
    "Nzs_norm.map(lambda x : (x[0],x[1][1])).reduceByKey(lambda x,y : x+y).take(5)"
   ]
  },
  {
   "cell_type": "code",
   "execution_count": 42,
   "metadata": {},
   "outputs": [
    {
     "name": "stdout",
     "output_type": "stream",
     "text": [
      "(z,(u,q)) [('3', (1, 27.97362685528661))]\n",
      "z, (u, p(z|u)) [(2, ('4', 0.2031906738034227))]\n"
     ]
    },
    {
     "data": {
      "text/plain": [
       "[('4', 1.0), ('10', 1.0), ('12', 1.0), ('16', 1.0), ('20', 1.0)]"
      ]
     },
     "execution_count": 42,
     "metadata": {},
     "output_type": "execute_result"
    }
   ],
   "source": [
    "###Maximsisation (2)\n",
    "\n",
    "#Pzu: (u,s,z),q)) => (z,(u,q))\n",
    "Pzu =  q.map(lambda x:((x[0][2],x[0][0]),x[1])).reduceByKey(lambda x,y:x+y).map(lambda x:(x[0][0],(x[0][1],x[1])))\n",
    "print('(z,(u,q))', Pzu.take(1))\n",
    "\n",
    "#Pzu_norm: (z,(u,q)) => (z, (u, p(z|u)))\n",
    "Pzu_norm = Pzu.groupByKey().flatMap(lambda x: [(x[0],(i[0],i[1]/sum([i[1] for i in x[1]]))) for i in x[1]])\n",
    "print('z, (u, p(z|u))', Pzu_norm.take(1))\n",
    "\n",
    "###Sanity Check: Probabilities add up to 1\n",
    "Pzu_norm.map(lambda x : (x[0],x[1][1])).reduceByKey(lambda x,y : x+y).take(5)"
   ]
  },
  {
   "cell_type": "markdown",
   "metadata": {},
   "source": [
    "We can now compute the new $q^{*}(z; u, s)$ given the new parameters. "
   ]
  },
  {
   "cell_type": "code",
   "execution_count": 43,
   "metadata": {},
   "outputs": [
    {
     "name": "stdout",
     "output_type": "stream",
     "text": [
      "(u,s),(z,Pzu * N(z,s)/N(z))): [(('4', '1172'), (1, 0.0001036446083791483))]\n",
      "(u,s,z),q)): [(('4', '3101', 1), 0.19345679835867843)]\n"
     ]
    }
   ],
   "source": [
    "###Expectation\n",
    "\n",
    "#(z, ((s,q*), (u,q*))) ==> ((u,s), (z, Pzu * N(z,s)/N(z)))\n",
    "temp_q = Pzu_norm.join(Nzs_norm).map(lambda x : ((x[1][0][0],x[1][1][0]), (x[0], x[1][0][1]*x[1][1][1])))\n",
    "print('(u,s),(z,Pzu * N(z,s)/N(z))):', temp_q.take(1))\n",
    "\n",
    "#((u,s,z),q*)\n",
    "q = temp_q.groupByKey().flatMap(lambda x: [((x[0][0],x[0][1],i[0]),i[1]/sum([i[1] for i in x[1]])) for i in x[1]])\n",
    "print('(u,s,z),q)):', q.take(1))"
   ]
  },
  {
   "cell_type": "code",
   "execution_count": null,
   "metadata": {
    "collapsed": true
   },
   "outputs": [],
   "source": [
    "#final result \n",
    "temp_q.map(lambda x : ((x[0][0],x[0][1]),x[1][1])).reduceByKey(lambda x,y : x+y).take(10)"
   ]
  },
  {
   "cell_type": "markdown",
   "metadata": {},
   "source": [
    "#### Full GroupyBy() EM Algorithm  "
   ]
  },
  {
   "cell_type": "code",
   "execution_count": 19,
   "metadata": {},
   "outputs": [
    {
     "name": "stdout",
     "output_type": "stream",
     "text": [
      "8\n",
      "8\n",
      "8\n",
      "8\n",
      "8\n",
      "8\n",
      "8\n",
      "8\n",
      "8\n",
      "8\n",
      "8\n",
      "8\n",
      "8\n",
      "8\n",
      "8\n",
      "8\n",
      "8\n",
      "8\n",
      "8\n",
      "8\n"
     ]
    }
   ],
   "source": [
    "import time\n",
    "\n",
    "nz = 5\n",
    "z_ids = sc.parallelize(list(range(1,nz+1)))\n",
    "usz = data.cartesian(z_ids).map(lambda x: (x[0][0], x[0][1], x[1]))\n",
    "max_iter = 20\n",
    "\n",
    "\n",
    "#Initialize\n",
    "q = usz.map(lambda x :(x,np.random.rand()))\n",
    "\n",
    "sc.setCheckpointDir('/Users/alexmomeni/Documents/Alex/Polytechnique/MAP543/Project')\n",
    "\n",
    "for i in range (max_iter):\n",
    "    #Cache in memory\n",
    "    q.persist()\n",
    "    print(q.getNumPartitions())\n",
    "    \n",
    "    #print(\"Maximisation\")\n",
    "    \n",
    "    #print(\"Calculating Nzs_norm\")\n",
    "    Nzs = q.map(lambda x:((x[0][2],x[0][1]),x[1])).reduceByKey(lambda x,y:x+y).map(lambda x:(x[0][0],(x[0][1],x[1])))\n",
    "    Nzs_norm= Nzs.groupByKey().flatMap(lambda x: [(x[0],(i[0],i[1]/sum([i[1] for i in x[1]]))) for i in x[1]])\n",
    "    \n",
    "    #print(\"Calculating Pzu_norm\")\n",
    "    Pzu =  q.map(lambda x:((x[0][2],x[0][0]),x[1])).reduceByKey(lambda x,y:x+y).map(lambda x:(x[0][1],(x[0][0],x[1])))\n",
    "    Pzu_norm = Pzu.groupByKey().flatMap(lambda x: [(i[0],(x[0],i[1]/sum([j[1] for j in x[1]]))) for i in x[1]])\n",
    "    \n",
    "    \n",
    "    #print(\"Expectation\")\n",
    "    temp_q = Pzu_norm.join(Nzs_norm).map(lambda x : ((x[1][0][0],x[1][1][0]), (x[0], x[1][0][1]*x[1][1][1])))\n",
    "    q = temp_q.groupByKey().flatMap(lambda x: [((x[0][0],x[0][1],i[0]),i[1]/sum([i[1] for i in x[1]])) for i in x[1]])\n",
    "    \n",
    "    #Coalesce\n",
    "    q = q.coalesce(8)\n",
    "    \n",
    "    #Checkpoint\n",
    "    if i % 2 == 0:\n",
    "        q.checkpoint()"
   ]
  },
  {
   "cell_type": "code",
   "execution_count": 20,
   "metadata": {
    "scrolled": false
   },
   "outputs": [
    {
     "name": "stdout",
     "output_type": "stream",
     "text": [
      "Elapsed time : 16.390833377838135\n"
     ]
    }
   ],
   "source": [
    "s_time = time.time()\n",
    "q.collect()\n",
    "e_time = time.time()\n",
    "print('Elapsed time : ' + str(e_time-s_time))"
   ]
  },
  {
   "cell_type": "code",
   "execution_count": null,
   "metadata": {
    "collapsed": true
   },
   "outputs": [],
   "source": [
    "#final result \n",
    "temp_p.map(lambda x : ((x[0][0],x[0][1]),x[1][1])).reduceByKey(lambda x,y : x+y).take(10)"
   ]
  },
  {
   "cell_type": "markdown",
   "metadata": {
    "collapsed": true
   },
   "source": [
    "#### Join Version "
   ]
  },
  {
   "cell_type": "code",
   "execution_count": 53,
   "metadata": {},
   "outputs": [
    {
     "name": "stdout",
     "output_type": "stream",
     "text": [
      "(u,s,z),q)): [(('1', '31', 1), 0.18800826990919994)]\n"
     ]
    }
   ],
   "source": [
    "#Initialization of q\n",
    "np.random.seed(123)\n",
    "\n",
    "#q: (u,s,z) => ((u,s,z), q)\n",
    "q = usz.map(lambda x :(x,np.random.rand()))\n",
    "print('(u,s,z),q)):', q.take(1))"
   ]
  },
  {
   "cell_type": "code",
   "execution_count": 54,
   "metadata": {},
   "outputs": [
    {
     "name": "stdout",
     "output_type": "stream",
     "text": [
      "(s,z, N(z,s)): [(('1172', 1), 0.33363518032561046)]\n",
      "(z, N(z)): [(1, 503.52692891363654)]\n",
      "s,z, N(s,z)/N(z) [('1172', 1, 0.0006625964991493723)]\n"
     ]
    }
   ],
   "source": [
    "###Maximisation (1)\n",
    "\n",
    "Nzs = q.map(lambda x : ((x[0][1],x[0][2]),x[1])).reduceByKey(lambda x,y : x+y)\n",
    "print('(s,z, N(z,s)):', Nzs.take(1))\n",
    "\n",
    "Nz = Nzs.map(lambda x : (x[0][1], x[1])).reduceByKey(lambda x,y : x+y)\n",
    "print('(z, N(z)):', Nz.take(1))\n",
    "\n",
    "Nzs_norm = Nzs.map(lambda x : (x[0][1], (x[0][0],x[1]))).join(Nz).\\\n",
    "            map(lambda x : (x[1][0][0],x[0], x[1][0][1]/x[1][1])) \n",
    "print('s,z, N(s,z)/N(z)', Nzs_norm.take(1))"
   ]
  },
  {
   "cell_type": "code",
   "execution_count": 51,
   "metadata": {},
   "outputs": [
    {
     "name": "stdout",
     "output_type": "stream",
     "text": [
      "(u,z, Pzunom: [(('3', 1), 24.882038207376006)]\n",
      "(z,(u,q)) [('4', 528.9769289105363)]\n",
      "(u,z, p(z|u)) [('4', 1, 0.21069253771255209)]\n"
     ]
    }
   ],
   "source": [
    "###Maximisation (2)\n",
    "\n",
    "Pzu_nominator = q.map(lambda x : ((x[0][0], x[0][2]),x[1])).reduceByKey(lambda x,y : x+y)\n",
    "print('(u,z, Pzunom:', Pzu_nominator.take(1))\n",
    "\n",
    "Pzu_denominator = Pzu_nominator.map(lambda x: (x[0][0], x[1])).reduceByKey(lambda x,y : x+y)\n",
    "print('(z,(u,q))', Pzu_denominator.take(1))\n",
    "\n",
    "Pzu_norm = Pzu_nominator.map(lambda x : (x[0][0], (x[0][1],x[1]))).join(Pzu_denominator).\\\n",
    "map(lambda x : (x[0],x[1][0][0], x[1][0][1]/x[1][1])) \n",
    "print('(u,z, p(z|u))', Pzu_norm.take(1))"
   ]
  },
  {
   "cell_type": "code",
   "execution_count": 52,
   "metadata": {},
   "outputs": [
    {
     "name": "stdout",
     "output_type": "stream",
     "text": [
      "(s,z,u, p(z|u)*N(z,s)/N(z) [((1, '1172', '4'), 3.728629865139878e-05)]\n",
      "(s,u, Sum p(z|u)*N(z,s)/N(z) [(('1293', '4'), 0.000800382978345479)]\n",
      "(u,s,z),q)): [(('4', '2003', 1), 0.15970077522791679)]\n"
     ]
    }
   ],
   "source": [
    "###Expectation\n",
    "\n",
    "q_nom = Pzu_norm.map(lambda x: (x[1], (x[0],x[2]))).\\\n",
    "join(Nzs_norm.map(lambda x: (x[1],(x[0],x[2])))).\\\n",
    "map(lambda x: ((x[0],x[1][1][0],x[1][0][0]),x[1][0][1] * x[1][1][1]))\n",
    "print('(s,z,u, p(z|u)*N(z,s)/N(z)', q_nom.take(1))\n",
    "\n",
    "q_denom = q_nom.map(lambda x: ((x[0][1],x[0][2]),x[1])).reduceByKey(lambda x,y : x+y)\n",
    "print('(s,u, Sum p(z|u)*N(z,s)/N(z)', q_denom.take(1))\n",
    "\n",
    "q = q_nom.map(lambda x : ((x[0][1], x[0][2]),(x[0][0],x[1]))).join(q_denom).\\\n",
    "    map(lambda x : (x[0][1],x[0][0], x[1][0][0], x[1][0][1]/x[1][1]))\n",
    "    \n",
    "q = q.map(lambda x: ((x[0],x[1],x[2]),x[3]))\n",
    "print('(u,s,z),q)):', q.take(1))"
   ]
  },
  {
   "cell_type": "markdown",
   "metadata": {
    "collapsed": true
   },
   "source": [
    "#### Full Join EM Algorithm  "
   ]
  },
  {
   "cell_type": "code",
   "execution_count": 25,
   "metadata": {},
   "outputs": [
    {
     "name": "stdout",
     "output_type": "stream",
     "text": [
      "8\n",
      "16\n",
      "16\n",
      "16\n",
      "16\n",
      "16\n",
      "16\n",
      "16\n",
      "16\n",
      "16\n"
     ]
    }
   ],
   "source": [
    "import time\n",
    "\n",
    "nz = 5\n",
    "z_ids = sc.parallelize(list(range(1,nz+1)))\n",
    "usz = data.cartesian(z_ids).map(lambda x: (x[0][0], x[0][1], x[1]))\n",
    "max_iter = 10\n",
    "\n",
    "\n",
    "#Initialize\n",
    "q = usz.map(lambda x :(x,np.random.rand()))\n",
    "n = q.getNumPartitions()\n",
    "\n",
    "sc.setCheckpointDir('/Users/alexmomeni/Documents/Alex/Polytechnique/MAP543/Project')\n",
    "\n",
    "for i in range (max_iter):\n",
    "    #Cache in memory\n",
    "    q.persist()\n",
    "    print(q.getNumPartitions())\n",
    "    \n",
    "    #print(\"Maximisation\")\n",
    "    \n",
    "    #print(\"Calculating Nzs_norm\")\n",
    "    Nzs = q.map(lambda x : ((x[0][1],x[0][2]),x[1])).reduceByKey(lambda x,y : x+y)\n",
    "    Nz = Nzs.map(lambda x : (x[0][1], x[1])).reduceByKey(lambda x,y : x+y)\n",
    "    Nzs_norm = Nzs.map(lambda x : (x[0][1], (x[0][0],x[1]))).join(Nz).\\\n",
    "            map(lambda x : (x[1][0][0],x[0], x[1][0][1]/x[1][1])) \n",
    "    \n",
    "    #print(\"Calculating Pzu_norm\")\n",
    "    Pzu_nominator = q.map(lambda x : ((x[0][0], x[0][2]),x[1])).reduceByKey(lambda x,y : x+y)\n",
    "    Pzu_denominator = Pzu_nominator.map(lambda x: (x[0][0], x[1])).reduceByKey(lambda x,y : x+y)\n",
    "    Pzu_norm = Pzu_nominator.map(lambda x : (x[0][0], (x[0][1],x[1]))).join(Pzu_denominator).\\\n",
    "    map(lambda x : (x[0],x[1][0][0], x[1][0][1]/x[1][1])) \n",
    "    \n",
    "    #print(\"Expectation\")\n",
    "    q_nom = Pzu_norm.map(lambda x: (x[1], (x[0],x[2]))).\\\n",
    "    join(Nzs_norm.map(lambda x: (x[1],(x[0],x[2])))).\\\n",
    "    map(lambda x: ((x[0],x[1][1][0],x[1][0][0]),x[1][0][1] * x[1][1][1]))\n",
    "    \n",
    "    q_denom = q_nom.map(lambda x: ((x[0][1],x[0][2]),x[1])).reduceByKey(lambda x,y : x+y)\n",
    "    \n",
    "    q = q_nom.map(lambda x : ((x[0][1], x[0][2]),(x[0][0],x[1]))).join(q_denom).\\\n",
    "    map(lambda x : (x[0][1],x[0][0], x[1][0][0], x[1][0][1]/x[1][1]))\n",
    "    \n",
    "    q = q.map(lambda x: ((x[0],x[1],x[2]),x[3]))\n",
    "    \n",
    "    #Coalesce\n",
    "    q = q.coalesce(n*2)\n",
    "    \n",
    "    #Checkpoint\n",
    "    #if i % 2 == 0:\n",
    "     #   q.checkpoint()"
   ]
  },
  {
   "cell_type": "code",
   "execution_count": 56,
   "metadata": {},
   "outputs": [
    {
     "name": "stdout",
     "output_type": "stream",
     "text": [
      "Elapsed time : 24.65009880065918\n"
     ]
    }
   ],
   "source": [
    "s_time = time.time()\n",
    "q.collect()\n",
    "e_time = time.time()\n",
    "print('Elapsed time : ' + str(e_time-s_time))"
   ]
  },
  {
   "cell_type": "markdown",
   "metadata": {
    "collapsed": true
   },
   "source": [
    "#### Broadcast Version"
   ]
  },
  {
   "cell_type": "code",
   "execution_count": 12,
   "metadata": {},
   "outputs": [
    {
     "name": "stdout",
     "output_type": "stream",
     "text": [
      "{1: 50046.04036815751, 2: 49986.32360003928, 3: 50030.54070440937, 4: 50026.263838033316, 5: 50018.513985679965}\n"
     ]
    }
   ],
   "source": [
    "#norm : (z,q) => (z,sum_q)\n",
    "norm = q.map(lambda x:(x[0][2],x[1])).reduceByKey(lambda x,y:x+y)\n",
    "smallDict = dict((x[0], x[1]) for x in norm.collect())\n",
    "bc=sc.broadcast(smallDict)\n",
    "print(bc.value)"
   ]
  },
  {
   "cell_type": "code",
   "execution_count": 13,
   "metadata": {},
   "outputs": [
    {
     "name": "stdout",
     "output_type": "stream",
     "text": [
      "(z, (s, N(s,z)) [(1, ('1172', 22.460923561318676))]\n"
     ]
    }
   ],
   "source": [
    "Nzs = q.map(lambda x:((x[0][2],x[0][1]),x[1])).reduceByKey(lambda x,y:x+y).map(lambda x:(x[0][0],(x[0][1],x[1])))\n",
    "print('(z, (s, N(s,z))', Nzs.take(1))"
   ]
  },
  {
   "cell_type": "code",
   "execution_count": 14,
   "metadata": {},
   "outputs": [
    {
     "name": "stdout",
     "output_type": "stream",
     "text": [
      "(z,(u,q)) [(1, ('3', 21.883575999305602))]\n"
     ]
    }
   ],
   "source": [
    "#Pzu: ((u,s,z),q) => ((z,u),q) => ((z,u),sum_q) => ((z,(u,q)))\n",
    "Pzu =  q.map(lambda x:((x[0][2],x[0][0]),x[1])).reduceByKey(lambda x,y:x+y).map(lambda x:(x[0][0],(x[0][1],x[1])))\n",
    "print('(z,(u,q))', Pzu.take(1))"
   ]
  },
  {
   "cell_type": "code",
   "execution_count": 15,
   "metadata": {},
   "outputs": [
    {
     "data": {
      "text/plain": [
       "[(1, ('3', 0.0004372688795821164)),\n",
       " (1, ('6', 0.0005255711779934553)),\n",
       " (1, ('15', 0.0168190012154185)),\n",
       " (1, ('30', 0.010042694969735701)),\n",
       " (1, ('32', 0.0005281333881601544))]"
      ]
     },
     "execution_count": 15,
     "metadata": {},
     "output_type": "execute_result"
    }
   ],
   "source": [
    "#Pzu: (z,(u,q))\n",
    "#Pzu_norm: ((z,u),q)) => (z, (u, p(z|u)))\n",
    "Pzu_norm = Pzu.map(lambda x : (x[0], (x[1][0],x[1][1]/bc.value[x[0]])))\n",
    "Pzu_norm.take(5)"
   ]
  },
  {
   "cell_type": "code",
   "execution_count": 16,
   "metadata": {},
   "outputs": [
    {
     "data": {
      "text/plain": [
       "[(1, ('1172', 0.00044880520808614763)),\n",
       " (1, ('1287', 0.00041244992025307286)),\n",
       " (1, ('3671', 0.0005798141051646732)),\n",
       " (1, ('47', 0.0019037539990893048)),\n",
       " (1, ('225', 0.0006063832206878866))]"
      ]
     },
     "execution_count": 16,
     "metadata": {},
     "output_type": "execute_result"
    }
   ],
   "source": [
    "#Nzs: (z,(s,N(z,s)))\n",
    "#Nzs_norm: (z,(s,N(z,s))) => (z,(s,N(z,s)/N(z)))\n",
    "Nzs_norm = Nzs.map(lambda x : (x[0], (x[1][0],x[1][1]/bc.value[x[0]])))\n",
    "Nzs_norm.take(5)"
   ]
  },
  {
   "cell_type": "code",
   "execution_count": 17,
   "metadata": {},
   "outputs": [
    {
     "name": "stdout",
     "output_type": "stream",
     "text": [
      "[(1, 1.001150988129259), (2, 1.000298279355365), (3, 1.0012002101640978), (4, 0.9989566079328333), (5, 1.0022440524790346)]\n",
      "[(1, 0.9995886003004822), (2, 1.0007091944792883), (3, 0.9998248994910307), (4, 0.9997897344969366), (5, 0.9999563707234314)]\n"
     ]
    }
   ],
   "source": [
    "#sanity checks\n",
    "print(Nzs_norm.map(lambda x : (x[0],x[1][1])).reduceByKey(lambda x,y : x+y).take(5))\n",
    "print(Pzu_norm.map(lambda x : (x[0],x[1][1])).reduceByKey(lambda x,y : x+y).take(5))"
   ]
  },
  {
   "cell_type": "code",
   "execution_count": 18,
   "metadata": {},
   "outputs": [
    {
     "name": "stdout",
     "output_type": "stream",
     "text": [
      "(u,s),(z,Pzu * N(z,s)/N(z))): [(('3', '1172'), (1, 1.962485504904484e-07))]\n",
      "(u,s,z),q)): [(('3', '31', 1), 0.17986899936450254)]\n"
     ]
    }
   ],
   "source": [
    "###Expectation\n",
    "\n",
    "#(z, ((s,q*), (u,q*)))\n",
    "joined = Pzu_norm.join(Nzs_norm)\n",
    "#(z, ((s,q*), (u,q*))) ==> ((u,s), (z, Pzu * N(z,s)/N(z)))\n",
    "temp_q = joined.map(lambda x : ((x[1][0][0],x[1][1][0]), (x[0], x[1][0][1]*x[1][1][1])))\n",
    "print('(u,s),(z,Pzu * N(z,s)/N(z))):', temp_q.take(1))\n",
    "\n",
    "#((u,s,z),q*)\n",
    "q = temp_q.groupByKey().flatMap(lambda x: [((x[0][0],x[0][1],i[0]),i[1]/sum([i[1] for i in x[1]])) for i in x[1]])\n",
    "print('(u,s,z),q)):', q.take(1))"
   ]
  },
  {
   "cell_type": "code",
   "execution_count": 19,
   "metadata": {},
   "outputs": [
    {
     "data": {
      "text/plain": [
       "[(('3', '31'), 1.1177308759721276e-06),\n",
       " (('3', '1029'), 1.009527024957251e-06),\n",
       " (('3', '1263'), 1.2386458898008923e-06),\n",
       " (('3', '2294'), 1.3215719865072165e-06),\n",
       " (('3', '62'), 2.2229665092741207e-06),\n",
       " (('3', '168'), 1.0161878882654983e-06),\n",
       " (('3', '273'), 6.743859725465466e-07),\n",
       " (('3', '350'), 1.6956357378361594e-06),\n",
       " (('3', '592'), 4.853356941211625e-06),\n",
       " (('3', '593'), 7.749281489854942e-06)]"
      ]
     },
     "execution_count": 19,
     "metadata": {},
     "output_type": "execute_result"
    }
   ],
   "source": [
    "#final result \n",
    "temp_q.map(lambda x : ((x[0][0],x[0][1]),x[1][1])).reduceByKey(lambda x,y : x+y).take(10)"
   ]
  },
  {
   "cell_type": "markdown",
   "metadata": {},
   "source": [
    "#### Full Broadcast EM Algorithm  "
   ]
  },
  {
   "cell_type": "code",
   "execution_count": null,
   "metadata": {
    "collapsed": true
   },
   "outputs": [],
   "source": [
    "nz = 5\n",
    "z_ids = sc.parallelize(list(range(1,nz+1)))\n",
    "usz = data.cartesian(z_ids).map(lambda x: (x[0][0], x[0][1], x[1]))\n",
    "max_iter = 2\n",
    "\n",
    "#Initialize\n",
    "q = usz.map(lambda x :(x,np.random.rand()))\n",
    "\n",
    "#sc.setCheckpointDir('/Users/alexmomeni/Documents/Alex/Polytechnique/MAP543/Project')\n",
    "\n",
    "for i in range (max_iter):\n",
    "    #Cache in memory\n",
    "    q.persist()\n",
    "    print(q.getNumPartitions())\n",
    "    \n",
    "    #print(\"Maximisation\")\n",
    "    norm = q.map(lambda x:(x[0][2],x[1])).reduceByKey(lambda x,y:x+y)\n",
    "    smallDict = dict((x[0], x[1]) for x in norm.collect())\n",
    "    bc=sc.broadcast(smallDict)\n",
    "    \n",
    "    #print(\"Calculating Nzs_norm\")\n",
    "    Nzs = q.map(lambda x:((x[0][2],x[0][1]),x[1])).reduceByKey(lambda x,y:x+y).map(lambda x:(x[0][0],(x[0][1],x[1])))\n",
    "    Nzs_norm = Nzs.map(lambda x : (x[0], (x[1][0],x[1][1]/bc.value[x[0]])))\n",
    "    #print('Nzs_norm ', Nzs_norm.take(3))\n",
    "    \n",
    "    #print(\"Calculating Pzu_norm\")\n",
    "    Pzu =  q.map(lambda x:((x[0][2],x[0][0]),x[1])).reduceByKey(lambda x,y:x+y).map(lambda x:(x[0][0],(x[0][1],x[1])))\n",
    "    Pzu_norm = Pzu.map(lambda x : (x[0], (x[1][0],x[1][1]/bc.value[x[0]])))\n",
    "    #print('Pzu_norm ', Pzu_norm.take(3))\n",
    "    \n",
    "    #print(\"Expectation\")\n",
    "    temp_q = Pzu_norm.join(Nzs_norm).map(lambda x : ((x[1][0][0],x[1][1][0]), (x[0], x[1][0][1]*x[1][1][1])))\n",
    "    q = temp_q.groupByKey().flatMap(lambda x: [((x[0][0],x[0][1],i[0]),i[1]/sum([i[1] for i in x[1]])) for i in x[1]])\n",
    "    #print('q ', q.take(3))\n",
    "    \n",
    "    #Coalesce\n",
    "    q = q.coalesce(8)\n",
    "    \n",
    "    #Checkpoint\n",
    "    #if i % 2 == 0:\n",
    "    #    q.checkpoint()"
   ]
  },
  {
   "cell_type": "code",
   "execution_count": null,
   "metadata": {
    "collapsed": true
   },
   "outputs": [],
   "source": [
    "#final result\n",
    "temp_q.map(lambda x : ((x[0][0],x[0][1]),x[1][1])).reduceByKey(lambda x,y : x+y).take(10)"
   ]
  },
  {
   "cell_type": "markdown",
   "metadata": {},
   "source": [
    "## Multinomial Model "
   ]
  },
  {
   "cell_type": "markdown",
   "metadata": {},
   "source": [
    "#### Basic Implementation"
   ]
  },
  {
   "cell_type": "markdown",
   "metadata": {},
   "source": [
    "Extract the data - multinom_data is the same dataset, but includes the ratings (ceonverted in integers). "
   ]
  },
  {
   "cell_type": "code",
   "execution_count": 20,
   "metadata": {},
   "outputs": [
    {
     "data": {
      "text/plain": [
       "[('1', '31', 2),\n",
       " ('1', '1029', 3),\n",
       " ('1', '1061', 3),\n",
       " ('1', '1129', 2),\n",
       " ('1', '1172', 4),\n",
       " ('1', '1263', 2),\n",
       " ('1', '1287', 2),\n",
       " ('1', '1293', 2),\n",
       " ('1', '1339', 3),\n",
       " ('1', '1343', 2)]"
      ]
     },
     "execution_count": 20,
     "metadata": {},
     "output_type": "execute_result"
    }
   ],
   "source": [
    "data_mutlinom = small_ratings_raw_data.filter(lambda line: line!=small_ratings_raw_data_header).map(parser).map(lambda tokens: (tokens[0],tokens[1], int(float(tokens[2])))).cache()\n",
    "data_mutlinom.take(10)"
   ]
  },
  {
   "cell_type": "code",
   "execution_count": 21,
   "metadata": {},
   "outputs": [
    {
     "name": "stdout",
     "output_type": "stream",
     "text": [
      "Number of communities: 5\n",
      "(u,s,z): [('1', '31', 1)]\n"
     ]
    }
   ],
   "source": [
    "nz = 5\n",
    "print('Number of communities:',nz)\n",
    "z_ids = sc.parallelize(list(range(1,nz+1)))\n",
    "\n",
    "#usz: (u, s, z)\n",
    "usz = data_mutlinom.cartesian(z_ids).map(lambda x: (x[0][0], x[0][1], x[1]))\n",
    "print(\"(u,s,z):\",usz.take(1))"
   ]
  },
  {
   "cell_type": "code",
   "execution_count": 22,
   "metadata": {},
   "outputs": [
    {
     "name": "stdout",
     "output_type": "stream",
     "text": [
      "((u,s), N(u,s)) [(('1', '31'), 2)]\n"
     ]
    },
    {
     "data": {
      "text/plain": [
       "341626"
      ]
     },
     "execution_count": 22,
     "metadata": {},
     "output_type": "execute_result"
    }
   ],
   "source": [
    "#N : ((u,s), Nus)\n",
    "N = data_mutlinom.map(lambda x : ((x[0],x[1]),x[2]))\n",
    "R = N.map(lambda x : x[1]).reduce(lambda x,y: x+y)\n",
    "print( \"((u,s), N(u,s))\", N.take(1))\n",
    "R"
   ]
  },
  {
   "cell_type": "code",
   "execution_count": 23,
   "metadata": {},
   "outputs": [
    {
     "name": "stdout",
     "output_type": "stream",
     "text": [
      "(u,s,z),q)): [(('1', '31', 1), 0.7991169055789756)]\n"
     ]
    }
   ],
   "source": [
    "#Initialization of q\n",
    "np.random.seed(123)\n",
    "\n",
    "#q: (u,s,z) => ((u,s,z), q)\n",
    "q = usz.map(lambda x :(x,np.random.rand()))\n",
    "print('(u,s,z),q)):', q.take(1))"
   ]
  },
  {
   "cell_type": "code",
   "execution_count": 24,
   "metadata": {},
   "outputs": [
    {
     "name": "stdout",
     "output_type": "stream",
     "text": [
      "(z, (s, N(s,z)) [(1, ('1172', 22.3773845802829))]\n",
      "(z, (s, N(s,z)/N(z)) [(1, ('1172', 0.00044871722964156944))]\n",
      "[(1, 0.9999999999999989), (2, 0.9999999999999983), (3, 0.9999999999999989), (4, 1.0000000000000009), (5, 1.000000000000001)]\n",
      "CPU times: user 76.2 ms, sys: 15.9 ms, total: 92.2 ms\n",
      "Wall time: 31.1 s\n"
     ]
    }
   ],
   "source": [
    "%%time\n",
    "###Maximisation (1)\n",
    "\n",
    "#Nzs: (z,(s,Nzs))\n",
    "#((u,s,z),q) => ((z,s),q) => ((z,s),sum_q) => ((z,(s,N(z,s))))\n",
    "Nzs = q.map(lambda x:((x[0][2],x[0][1]),x[1])).reduceByKey(lambda x,y:x+y).map(lambda x:(x[0][0],(x[0][1],x[1])))\n",
    "print('(z, (s, N(s,z))', Nzs.take(1))\n",
    "\n",
    "#Nzs_norm: (z,(s,N(z,s))) => (z,(s,N(z,s)/N(z)))\n",
    "Nzs_norm = Nzs.groupByKey().flatMap(lambda x: [(x[0],(i[0],i[1]/sum([i[1] for i in x[1]]))) for i in x[1]])\n",
    "print('(z, (s, N(s,z)/N(z))', Nzs_norm.take(1))\n",
    "\n",
    "###Sanity Check: Probabilities add up to 1\n",
    "print(Nzs_norm.map(lambda x : (x[0],x[1][1])).reduceByKey(lambda x,y : x+y).take(5))"
   ]
  },
  {
   "cell_type": "code",
   "execution_count": 25,
   "metadata": {},
   "outputs": [
    {
     "name": "stdout",
     "output_type": "stream",
     "text": [
      "(z,(u,q)) [(1, ('3', 24.55147097661122))]\n",
      "z, (u, p(z|u)) [(1, ('3', 0.0004907296749332845))]\n",
      "[(1, 0.9999999999999993), (2, 0.9999999999999991), (3, 1.0000000000000002), (4, 0.9999999999999994), (5, 1.0000000000000009)]\n",
      "CPU times: user 126 ms, sys: 23.4 ms, total: 149 ms\n",
      "Wall time: 2.44 s\n"
     ]
    }
   ],
   "source": [
    "%%time\n",
    "###Maximsisation (2)\n",
    "\n",
    "#Pzu: ((u,s,z),q) => ((z,u),q) => ((z,u),sum_q) => ((z,(u,q)))\n",
    "Pzu =  q.map(lambda x:((x[0][2],x[0][0]),x[1])).reduceByKey(lambda x,y:x+y).map(lambda x:(x[0][0],(x[0][1],x[1])))\n",
    "print('(z,(u,q))', Pzu.take(1))\n",
    "\n",
    "#Pzu_norm: ((z,(u,q)) => (z, (u, p(z|u)))\n",
    "#Pzu_norm = Pzu.groupByKey().flatMap(lambda x: [(i[0],(x[0],i[1]/sum([j[1] for j in x[1]]))) for i in x[1]])\n",
    "Pzu_norm = Pzu.groupByKey().flatMap(lambda x: [(x[0],(i[0],i[1]/sum([j[1] for j in x[1]]))) for i in x[1]])\n",
    "print('z, (u, p(z|u))', Pzu_norm.take(1))\n",
    "\n",
    "###Sanity Check: Probabilities add up to 1\n",
    "print(Pzu_norm.map(lambda x : (x[0],x[1][1])).reduceByKey(lambda x,y : x+y).take(5))"
   ]
  },
  {
   "cell_type": "code",
   "execution_count": null,
   "metadata": {},
   "outputs": [
    {
     "name": "stdout",
     "output_type": "stream",
     "text": [
      "[(1, (('3', 0.0004907296749332845), ('1172', 22.3773845802829))), (1, (('3', 0.0004907296749332845), ('1287', 24.355663075997526))), (1, (('3', 0.0004907296749332845), ('3671', 27.612690278485033))), (1, (('3', 0.0004907296749332845), ('47', 101.7409165846745))), (1, (('3', 0.0004907296749332845), ('225', 22.71589088108749)))]\n",
      "(u,s),(z,Pzu * N(z,s)/N(z))): [(('3', '1172'), (1, 3.2144060056726715e-08))]\n"
     ]
    }
   ],
   "source": [
    "%%time\n",
    "###Expectation\n",
    "\n",
    "#(z, ((s,q*), (u,q*)))\n",
    "joined = Pzu_norm.join(Nzs)\n",
    "print(joined.take(5))\n",
    "#(z, ((s,q*), (u,q*))) ==> ((u,s), (z, Pzu * N(z,s)/N(z)))\n",
    "temp_p = joined.map(lambda x : ((x[1][0][0],x[1][1][0]), (x[0], x[1][0][1]*x[1][1][1]/R)))\n",
    "print('(u,s),(z,Pzu * N(z,s)/N(z))):', temp_p.take(1))\n",
    "\n",
    "#((u,s,z),p*)\n",
    "p = temp_p.groupByKey().flatMap(lambda x: [((x[0][0],x[0][1],i[0]),i[1]/sum([i[1] for i in x[1]])) for i in x[1]])\n",
    "print('(u,s,z),p)):', p.take(1))"
   ]
  },
  {
   "cell_type": "code",
   "execution_count": null,
   "metadata": {
    "collapsed": true
   },
   "outputs": [],
   "source": [
    "#temp_q : ( (u,s), ((z,q*), N) ) \n",
    "temp_q = p.map(lambda x : ((x[0][0],x[0][1]),(x[0][2],x[1]))).join(N)\n",
    "\n",
    "#q : ((u,s,z), q*)\n",
    "q = temp_q.map(lambda x : ((x[0][0],x[0][1],x[1][0][0]),x[1][0][1]*x[1][1]))\n",
    "print('(u,s,z),q)):', q.take(1))"
   ]
  },
  {
   "cell_type": "code",
   "execution_count": null,
   "metadata": {
    "collapsed": true
   },
   "outputs": [],
   "source": [
    "#final result \n",
    "temp_p.map(lambda x : ((x[0][0],x[0][1]),x[1][1])).reduceByKey(lambda x,y : x+y).take(10)"
   ]
  },
  {
   "cell_type": "markdown",
   "metadata": {},
   "source": [
    "#### Full Multinomial EM Algorithm"
   ]
  },
  {
   "cell_type": "code",
   "execution_count": null,
   "metadata": {
    "collapsed": true
   },
   "outputs": [],
   "source": [
    "nz = 5\n",
    "z_ids = sc.parallelize(list(range(1,nz+1)))\n",
    "usz = data.cartesian(z_ids).map(lambda x: (x[0][0], x[0][1], x[1]))\n",
    "max_iter = 2\n",
    "N = data_mutlinom.map(lambda x : ((x[0],x[1]),x[2]))\n",
    "R = N.map(lambda x : x[1]).reduce(lambda x,y: x+y)\n",
    "\n",
    "#Initialize\n",
    "q = usz.map(lambda x :(x,np.random.rand()))\n",
    "\n",
    "#sc.setCheckpointDir('/Users/alexmomeni/Documents/Alex/Polytechnique/MAP543/Project')\n",
    "\n",
    "for i in range (max_iter):\n",
    "    #Cache in memory\n",
    "    q.persist()\n",
    "    print(q.getNumPartitions())\n",
    "    \n",
    "    #print(\"Maximisation\")\n",
    "    \n",
    "    #print(\"Calculating Nzs_norm\")\n",
    "    Nzs = q.map(lambda x:((x[0][2],x[0][1]),x[1])).reduceByKey(lambda x,y:x+y).map(lambda x:(x[0][0],(x[0][1],x[1])))\n",
    "    Nzs_norm = Nzs.groupByKey().flatMap(lambda x: [(x[0],(i[0],i[1]/sum([i[1] for i in x[1]]))) for i in x[1]])\n",
    "\n",
    "    #print(\"Calculating Pzu_norm\")\n",
    "    Pzu =  q.map(lambda x:((x[0][2],x[0][0]),x[1])).reduceByKey(lambda x,y:x+y).map(lambda x:(x[0][0],(x[0][1],x[1])))\n",
    "    Pzu_norm = Pzu.groupByKey().flatMap(lambda x: [(x[0],(i[0],i[1]/sum([j[1] for j in x[1]]))) for i in x[1]])\n",
    "\n",
    "    #print(\"Expectation\")\n",
    "    temp_p = Pzu_norm.join(Nzs).map(lambda x : ((x[1][0][0],x[1][1][0]), (x[0], x[1][0][1]*x[1][1][1]/R)))\n",
    "    p = temp_p.groupByKey().flatMap(lambda x: [((x[0][0],x[0][1],i[0]),i[1]/sum([i[1] for i in x[1]])) for i in x[1]])\n",
    "\n",
    "    temp_q = p.map(lambda x : ((x[0][0],x[0][1]),(x[0][2],x[1]))).join(N)\n",
    "    q = temp_q.map(lambda x : ((x[0][0],x[0][1],x[1][0][0]),x[1][0][1]*x[1][1]))\n",
    "    \n",
    "    #Coalesce\n",
    "    q = q.coalesce(8)\n",
    "    \n",
    "    #Checkpoint\n",
    "    #if i % 2 == 0:\n",
    "        #q.checkpoint()"
   ]
  },
  {
   "cell_type": "code",
   "execution_count": null,
   "metadata": {
    "collapsed": true
   },
   "outputs": [],
   "source": [
    "#final result\n",
    "temp_p.map(lambda x : ((x[0][0],x[0][1]),x[1][1])).reduceByKey(lambda x,y : x+y).take(10)"
   ]
  },
  {
   "cell_type": "markdown",
   "metadata": {},
   "source": [
    "#### Full Multinomial EM Algorithm (with broadcast)"
   ]
  },
  {
   "cell_type": "code",
   "execution_count": null,
   "metadata": {
    "collapsed": true
   },
   "outputs": [],
   "source": [
    "import time\n",
    "\n",
    "nz = 5\n",
    "z_ids = sc.parallelize(list(range(1,nz+1)))\n",
    "usz = data.cartesian(z_ids).map(lambda x: (x[0][0], x[0][1], x[1]))\n",
    "max_iter = 2\n",
    "N = data_mutlinom.map(lambda x : ((x[0],x[1]),x[2]))\n",
    "R = N.map(lambda x : x[1]).reduce(lambda x,y: x+y)\n",
    "\n",
    "\n",
    "#Initialize\n",
    "q = usz.map(lambda x :(x,np.random.rand()))\n",
    "\n",
    "#sc.setCheckpointDir('/Users/alexmomeni/Documents/Alex/Polytechnique/MAP543/Project')\n",
    "\n",
    "for i in range (max_iter):\n",
    "    #Cache in memory\n",
    "    q.persist()\n",
    "    print(q.getNumPartitions())\n",
    "    \n",
    "    #print(\"Maximisation\")\n",
    "    norm = q.map(lambda x:(x[0][2],x[1])).reduceByKey(lambda x,y:x+y)\n",
    "    smallDict = dict((x[0], x[1]) for x in norm.collect())\n",
    "    bc=sc.broadcast(smallDict)\n",
    "    \n",
    "    #print(\"Calculating Nzs_norm\")\n",
    "    Nzs = q.map(lambda x:((x[0][2],x[0][1]),x[1])).reduceByKey(lambda x,y:x+y).map(lambda x:(x[0][0],(x[0][1],x[1])))\n",
    "    #Nzs_norm = Nzs.map(lambda x : (x[0], (x[1][0],x[1][1]/bc.value[x[0]])))\n",
    "\n",
    "    #print(\"Calculating Pzu_norm\")\n",
    "    Pzu =  q.map(lambda x:((x[0][2],x[0][0]),x[1])).reduceByKey(lambda x,y:x+y).map(lambda x:(x[0][0],(x[0][1],x[1])))\n",
    "    Pzu_norm = Pzu.map(lambda x : (x[0], (x[1][0],x[1][1]/bc.value[x[0]])))\n",
    "\n",
    "    #print(\"Expectation\")\n",
    "    temp_p = Pzu_norm.join(Nzs).map(lambda x : ((x[1][0][0],x[1][1][0]), (x[0], x[1][0][1]*x[1][1][1]/R)))\n",
    "    p = temp_p.groupByKey().flatMap(lambda x: [((x[0][0],x[0][1],i[0]),i[1]/sum([i[1] for i in x[1]])) for i in x[1]])\n",
    "\n",
    "    temp_q = p.map(lambda x : ((x[0][0],x[0][1]),(x[0][2],x[1]))).join(N)\n",
    "    q = temp_q.map(lambda x : ((x[0][0],x[0][1],x[1][0][0]),x[1][0][1]*x[1][1]))\n",
    "    \n",
    "    #Coalesce\n",
    "    q = q.coalesce(8)\n",
    "    \n",
    "    #Checkpoint\n",
    "    #if i % 2 == 0:\n",
    "        #q.checkpoint()"
   ]
  },
  {
   "cell_type": "code",
   "execution_count": null,
   "metadata": {
    "collapsed": true
   },
   "outputs": [],
   "source": [
    "#final result\n",
    "temp_q.map(lambda x : ((x[0][0],x[0][1]),x[1][1])).reduceByKey(lambda x,y : x+y).take(10)"
   ]
  }
 ],
 "metadata": {
  "kernelspec": {
   "display_name": "Python 3",
   "language": "python",
   "name": "python3"
  },
  "language_info": {
   "codemirror_mode": {
    "name": "ipython",
    "version": 3
   },
   "file_extension": ".py",
   "mimetype": "text/x-python",
   "name": "python",
   "nbconvert_exporter": "python",
   "pygments_lexer": "ipython3",
   "version": "3.6.2"
  }
 },
 "nbformat": 4,
 "nbformat_minor": 2
}
